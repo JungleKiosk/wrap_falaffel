{
 "cells": [
  {
   "cell_type": "markdown",
   "id": "75c2f3bf",
   "metadata": {},
   "source": [
    "# Esplorazione dei Dati\n",
    "## Obiettivo: comprendere la struttura del dataset e identificare potenziali problemi.\n",
    "\n",
    "- Importazione dello shapefile (es. con geopandas in Python)\n",
    "\n",
    "- Controllo delle variabili disponibili: elenco campi e tipi (numerici, categorici, date)\n",
    "\n",
    "- Controllo della coerenza spaziale e temporale"
   ]
  },
  {
   "cell_type": "code",
   "execution_count": 17,
   "id": "6ffed70c",
   "metadata": {},
   "outputs": [
    {
     "name": "stdout",
     "output_type": "stream",
     "text": [
      "     Depth   POINTID  pH_CaCl2  pH_H2O    EC    OC CaCO3      P    N      K  \\\n",
      "0  0-20 cm  40962378       6.3    6.76  23.7  12.9     3  < LOD  1.8   68.9   \n",
      "1  0-20 cm  40962390       6.1    6.59    36  62.3     5   15.5  5.7    261   \n",
      "2  0-20 cm  40982448       6.0    6.36  22.4  30.6     1  < LOD  2.8   80.5   \n",
      "3  0-20 cm  41022358       7.1    7.19  21.5  53.5   247   17.6  4.8   91.8   \n",
      "4  0-20 cm  41042398       6.0    6.32  23.5  17.1    NA  < LOD  1.7  489.1   \n",
      "\n",
      "   ...  Elev   LC    LU  LC0_Desc              LC1_Desc  \\\n",
      "0  ...  1107  C10  U120  Woodland  Broadleaved woodland   \n",
      "1  ...  1066  C10  U120  Woodland  Broadleaved woodland   \n",
      "2  ...  1234  C10  U120  Woodland  Broadleaved woodland   \n",
      "3  ...  1343  C33  U120  Woodland  Other mixed woodland   \n",
      "4  ...  1100  C10  U420  Woodland  Broadleaved woodland   \n",
      "\n",
      "                                    LU1_Desc field_28 field_29  field_30  \\\n",
      "0                                   Forestry     None     None      None   \n",
      "1                                   Forestry     None     None      None   \n",
      "2                                   Forestry     None     None      None   \n",
      "3                                   Forestry     None     None      None   \n",
      "4  Semi-natural and natural areas not in use     None     None      None   \n",
      "\n",
      "                  geometry  \n",
      "0  POINT (4096000 2378000)  \n",
      "1  POINT (4096000 2390000)  \n",
      "2  POINT (4098000 2448000)  \n",
      "3  POINT (4102000 2358000)  \n",
      "4  POINT (4104000 2398000)  \n",
      "\n",
      "[5 rows x 31 columns]\n",
      "Depth\n",
      "EPSG:3035\n"
     ]
    }
   ],
   "source": [
    "import geopandas as gpd\n",
    "\n",
    "df = gpd.read_file('data/shapefile/lucas_2018/LUCAS2018_it.shp')\n",
    "\n",
    "print(df.head())\n",
    "print(df.columns[0])\n",
    "print(df.crs)\n"
   ]
  },
  {
   "cell_type": "markdown",
   "id": "097ad171",
   "metadata": {},
   "source": [
    "# Pulizia e Preprocessing\n",
    "## Obiettivo: garantire l’affidabilità dei dati prima dell’analisi.\n",
    "\n",
    "- Rimozione di valori nulli o anomali (outlier sospetti)\n",
    "\n",
    "- Verifica e uniformazione delle unità di misura\n",
    "\n",
    "- Eventuale filtraggio temporale (es. analisi stagionali)\n",
    "\n",
    "- Standardizzazione o normalizzazione (se richiesto da metodi successivi)"
   ]
  },
  {
   "cell_type": "code",
   "execution_count": 26,
   "id": "f8407917",
   "metadata": {},
   "outputs": [
    {
     "name": "stdout",
     "output_type": "stream",
     "text": [
      "Valori NULL\n",
      "Depth            0\n",
      "POINTID          0\n",
      "pH_CaCl2         0\n",
      "pH_H2O           0\n",
      "EC               2\n",
      "OC               0\n",
      "CaCO3            0\n",
      "P                0\n",
      "N                0\n",
      "K                0\n",
      "OC (20-30     1241\n",
      "CaCO3 (20-    1241\n",
      "Ox_Al         1025\n",
      "Ox_Fe         1025\n",
      "NUTS_0           0\n",
      "NUTS_1           0\n",
      "NUTS_2           0\n",
      "NUTS_3           0\n",
      "TH_LAT           0\n",
      "TH_LONG          0\n",
      "SURVEY_DAT       0\n",
      "Elev             0\n",
      "LC               0\n",
      "LU               0\n",
      "LC0_Desc         0\n",
      "LC1_Desc         0\n",
      "LU1_Desc         0\n",
      "field_28      1237\n",
      "field_29      1237\n",
      "field_30      1237\n",
      "geometry         0\n",
      "dtype: int64\n"
     ]
    }
   ],
   "source": [
    "print(\"Valori NULL\")\n",
    "print(df.isnull().sum())"
   ]
  },
  {
   "cell_type": "code",
   "execution_count": null,
   "id": "c5b53c2e",
   "metadata": {},
   "outputs": [
    {
     "name": "stdout",
     "output_type": "stream",
     "text": [
      "Valori NULL dopo il drop 0        23.7\n",
      "1          36\n",
      "2        22.4\n",
      "3        21.5\n",
      "4        23.5\n",
      "        ...  \n",
      "1236     36.4\n",
      "1237    10.27\n",
      "1238    21.32\n",
      "1239    18.92\n",
      "1240    25.48\n",
      "Name: EC, Length: 1239, dtype: object\n",
      "Numero di valori nulli in colonna EC: 2\n"
     ]
    }
   ],
   "source": [
    "df_clean = df.dropna(subset=['EC'])\n",
    "print(\"Valori NULL dopo il dropna\", df_clean['EC'])\n",
    "\n",
    "num_null_ec = df['EC'].isnull().sum()\n",
    "print(f\"Numero di valori nulli in colonna EC: {num_null_ec}\")\n"
   ]
  }
 ],
 "metadata": {
  "kernelspec": {
   "display_name": ".venv",
   "language": "python",
   "name": "python3"
  },
  "language_info": {
   "codemirror_mode": {
    "name": "ipython",
    "version": 3
   },
   "file_extension": ".py",
   "mimetype": "text/x-python",
   "name": "python",
   "nbconvert_exporter": "python",
   "pygments_lexer": "ipython3",
   "version": "3.12.5"
  }
 },
 "nbformat": 4,
 "nbformat_minor": 5
}
