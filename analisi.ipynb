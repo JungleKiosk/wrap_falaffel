{
 "cells": [
  {
   "cell_type": "markdown",
   "id": "75c2f3bf",
   "metadata": {},
   "source": [
    "# Esplorazione dei Dati\n",
    "## Obiettivo: comprendere la struttura del dataset e identificare potenziali problemi.\n",
    "\n",
    "- Importazione dello shapefile (es. con geopandas in Python)\n",
    "\n",
    "- Controllo delle variabili disponibili: elenco campi e tipi (numerici, categorici, date)\n",
    "\n",
    "- Controllo della coerenza spaziale e temporale"
   ]
  },
  {
   "cell_type": "code",
   "execution_count": null,
   "id": "6ffed70c",
   "metadata": {},
   "outputs": [],
   "source": [
    "import geopandas as gpd\n",
    "\n",
    "df = gpd.read_file('data/shapefile/lucas_2018/LUCAS2018_it.shp')\n",
    "\n",
    "print(df.head())\n",
    "print(df.columns)\n",
    "print(df.crs)\n",
    "print(df.geometry.head())\n",
    "print(df.geometry.type)\n",
    "print(df.geometry.area.head())\n",
    "print(df.geometry.length.head())"
   ]
  },
  {
   "cell_type": "markdown",
   "id": "097ad171",
   "metadata": {},
   "source": [
    "# Pulizia e Preprocessing\n",
    "## Obiettivo: garantire l’affidabilità dei dati prima dell’analisi.\n",
    "\n",
    "- Rimozione di valori nulli o anomali (outlier sospetti)\n",
    "\n",
    "- Verifica e uniformazione delle unità di misura\n",
    "\n",
    "- Eventuale filtraggio temporale (es. analisi stagionali)\n",
    "\n",
    "- Standardizzazione o normalizzazione (se richiesto da metodi successivi)"
   ]
  }
 ],
 "metadata": {
  "kernelspec": {
   "display_name": ".venv",
   "language": "python",
   "name": "python3"
  },
  "language_info": {
   "codemirror_mode": {
    "name": "ipython",
    "version": 3
   },
   "file_extension": ".py",
   "mimetype": "text/x-python",
   "name": "python",
   "nbconvert_exporter": "python",
   "pygments_lexer": "ipython3",
   "version": "3.12.5"
  }
 },
 "nbformat": 4,
 "nbformat_minor": 5
}
